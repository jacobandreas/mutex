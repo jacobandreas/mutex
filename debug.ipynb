{
 "cells": [
  {
   "cell_type": "code",
   "execution_count": 132,
   "metadata": {},
   "outputs": [],
   "source": [
    "import torch\n",
    "from torch import nn, optim\n",
    "import torch.utils.data as torch_data\n",
    "import torch.nn.functional as F\n",
    "import itertools as it\n",
    "import numpy as np\n",
    "import random\n",
    "from itertools import combinations, product\n",
    "from mutex import EncDec, Vocab, batch_seqs, Mutex\n",
    "from data import encode,  generate_fig2_exp, Oracle, collate, eval_format\n",
    "from absl import app, flags\n",
    "import sys\n",
    "import os\n",
    "from main import pretrain, train, validate\n",
    "import hlog\n",
    "import pickle"
   ]
  },
  {
   "cell_type": "code",
   "execution_count": 133,
   "metadata": {},
   "outputs": [],
   "source": [
    "import hlog\n",
    "\n",
    "import seaborn as sns; sns.set()\n",
    "import matplotlib.pyplot as plt\n",
    "import pandas as pd\n",
    "plt.rcParams['figure.dpi'] = 250\n",
    "\n",
    "#input_symbols_list   = set(['dax', 'lug', 'wif', 'zup', 'fep', 'blicket', 'kiki', 'tufa', 'gazzer'])\n",
    "input_symbols_list   = ['pink', 'yellow', 'purple', 'red', 'thrice', 'gren', 'blue', 'around', 'after']\n",
    "output_symbols_list  = ['RED', 'YELLOW', 'BLUE', 'GREEN', 'PURPLE', 'PINK']\n",
    "\n",
    "DEVICE = torch.device(\"cuda:0\")"
   ]
  },
  {
   "cell_type": "code",
   "execution_count": 185,
   "metadata": {},
   "outputs": [
    {
     "data": {
      "text/plain": [
       "['mutex.ipynb']"
      ]
     },
     "execution_count": 185,
     "metadata": {},
     "output_type": "execute_result"
    }
   ],
   "source": [
    "FLAGS = flags.FLAGS\n",
    "delattr(FLAGS,\"debug\")\n",
    "delattr(FLAGS,\"seed\")\n",
    "delattr(FLAGS,\"full_data\")\n",
    "flags.DEFINE_bool(\"debug\", True, \"debug mode\")\n",
    "flags.DEFINE_integer(\"seed\", 1, \"random seed\")\n",
    "flags.DEFINE_bool(\"full_data\", True, \"full figure 2 experiments, otherwise color matching\")\n",
    "FLAGS(['mutex.ipynb'])"
   ]
  },
  {
   "cell_type": "code",
   "execution_count": 186,
   "metadata": {},
   "outputs": [],
   "source": [
    "random.seed(FLAGS.seed)\n",
    "np.random.seed(FLAGS.seed)\n",
    "torch.manual_seed(FLAGS.seed)\n",
    "model = torch.load(f\"exp/full2/seed_{FLAGS.seed}_model.m\")\n",
    "model.eval()\n",
    "train_items, test_items = model.py.train_items, model.py.test_items\n",
    "vocab_x, vocab_y = model.vocab_x, model.vocab_y"
   ]
  },
  {
   "cell_type": "code",
   "execution_count": 187,
   "metadata": {},
   "outputs": [],
   "source": [
    "FLAGS.debug = False"
   ]
  },
  {
   "cell_type": "code",
   "execution_count": 188,
   "metadata": {},
   "outputs": [
    {
     "data": {
      "text/plain": [
       "(1.0, 1.0)"
      ]
     },
     "execution_count": 188,
     "metadata": {},
     "output_type": "execute_result"
    }
   ],
   "source": [
    "validate(model, train_items, vis=True)"
   ]
  },
  {
   "cell_type": "code",
   "execution_count": 189,
   "metadata": {},
   "outputs": [
    {
     "data": {
      "text/plain": [
       "(0.36363636363636365, 0.972972972972973)"
      ]
     },
     "execution_count": 189,
     "metadata": {},
     "output_type": "execute_result"
    }
   ],
   "source": [
    "validate(model, test_items, vis=True)"
   ]
  },
  {
   "cell_type": "code",
   "execution_count": 192,
   "metadata": {},
   "outputs": [],
   "source": [
    "ys = model.py.sample(1,7)"
   ]
  },
  {
   "cell_type": "code",
   "execution_count": 193,
   "metadata": {},
   "outputs": [
    {
     "data": {
      "text/plain": [
       "['<s>', 'RED', 'RED', 'RED', 'RED', 'RED', '</s>']"
      ]
     },
     "execution_count": 193,
     "metadata": {},
     "output_type": "execute_result"
    }
   ],
   "source": [
    "model.vocab_y.decode(ys.detach().cpu().transpose(0,1).tolist()[0])"
   ]
  },
  {
   "cell_type": "code",
   "execution_count": 213,
   "metadata": {
    "scrolled": true
   },
   "outputs": [],
   "source": [
    "samples = []\n",
    "for i in range(100):\n",
    "    xs, _ = model.qxy.sample(ys, model.MAXLEN_X, temp=model.temp)\n",
    "    ux = [list(x) for x in set(tuple(x) for x in xs)]\n",
    "    samples += [model.vocab_x.decode(ux[0])]\n",
    "    xps   = batch_seqs(ux).to(DEVICE)"
   ]
  },
  {
   "cell_type": "code",
   "execution_count": 218,
   "metadata": {},
   "outputs": [],
   "source": [
    "ux = [list(x) for x in set(tuple(x) for x in samples)]"
   ]
  },
  {
   "cell_type": "code",
   "execution_count": 220,
   "metadata": {},
   "outputs": [
    {
     "data": {
      "text/plain": [
       "[['<s>', 'red', 'thrice', 'around', 'red', 'after', 'after', '</s>'],\n",
       " ['<s>', 'red', 'around', 'after', 'red', 'red', 'red', '</s>'],\n",
       " ['<s>', 'red', 'thrice', 'around', 'around', 'red', 'green', '</s>'],\n",
       " ['<s>', 'red', 'thrice', 'around', 'around', 'green', 'purple', '</s>'],\n",
       " ['<s>', 'red', 'green', 'red', 'around', 'thrice', 'yellow', '</s>'],\n",
       " ['<s>', 'red', 'thrice', 'thrice', 'around', 'purple', 'red', '</s>'],\n",
       " ['<s>', 'red', 'after', 'red', 'red', 'around', 'red', '</s>'],\n",
       " ['<s>', 'red', 'thrice', 'thrice', 'around', 'red', 'red', '</s>'],\n",
       " ['<s>', 'red', 'red', 'red', 'around', 'after', 'thrice', '</s>'],\n",
       " ['<s>', 'red', 'thrice', 'around', 'red', 'thrice', 'blue', '</s>'],\n",
       " ['<s>', 'red', 'thrice', 'green', 'red', 'around', 'around', '</s>'],\n",
       " ['<s>', 'red', 'thrice', 'around', 'after', 'thrice', 'around', '</s>'],\n",
       " ['<s>', 'red', 'around', 'red', 'around', 'after', 'after', '</s>'],\n",
       " ['<s>', 'red', 'thrice', 'around', 'after', 'red', '</s>'],\n",
       " ['<s>', 'red', 'around', 'thrice', 'around', 'thrice', 'green', '</s>'],\n",
       " ['<s>', 'red', 'red', 'green', 'around', 'around', 'around', '</s>'],\n",
       " ['<s>', 'red', 'around', 'red', 'red', 'around', 'around', '</s>'],\n",
       " ['<s>', 'red', 'red', 'after', 'red', 'red', 'thrice', '</s>'],\n",
       " ['<s>', 'red', 'thrice', 'red', 'around', 'blue', 'after', '</s>'],\n",
       " ['<s>', 'red', 'around', 'green', 'thrice', '</s>'],\n",
       " ['<s>', 'red', 'around', 'after', 'red', 'around', 'red', '</s>'],\n",
       " ['<s>', 'red', 'red', 'around', 'blue', 'thrice', '</s>'],\n",
       " ['<s>', 'red', 'red', 'thrice', 'around', 'thrice', 'red', '</s>'],\n",
       " ['<s>', 'red', 'around', 'red', 'thrice', '</s>'],\n",
       " ['<s>', 'red', 'red', 'thrice', 'around', 'red', 'after', '</s>'],\n",
       " ['<s>', 'red', 'red', 'around', 'thrice', 'after', 'red', '</s>'],\n",
       " ['<s>', 'red', 'around', 'red', 'red', 'after', 'red', '</s>'],\n",
       " ['<s>', 'red', 'thrice', 'thrice', 'around', 'green', 'red', '</s>'],\n",
       " ['<s>', 'red', 'thrice', 'thrice', 'after', 'thrice', 'pink', '</s>'],\n",
       " ['<s>', 'red', 'thrice', 'around', 'after', 'green', 'around', '</s>'],\n",
       " ['<s>', 'red', 'red', 'thrice', 'around', 'blue', 'thrice', '</s>'],\n",
       " ['<s>', 'red', 'red', 'around', 'red', 'around', 'thrice', '</s>'],\n",
       " ['<s>', 'red', 'thrice', 'around', 'around', 'after', 'red', '</s>'],\n",
       " ['<s>', 'red', 'red', 'thrice', 'around', 'red', '</s>'],\n",
       " ['<s>', 'red', 'around', 'red', 'after', 'green', '</s>'],\n",
       " ['<s>', 'red', 'around', 'thrice', 'around', 'red', '</s>'],\n",
       " ['<s>', 'red', 'red', 'around', 'around', 'after', 'green', '</s>'],\n",
       " ['<s>', 'red', 'red', 'red', 'yellow', 'red', 'thrice', '</s>'],\n",
       " ['<s>', 'red', 'after', 'red', 'around', 'thrice', 'thrice', '</s>'],\n",
       " ['<s>', 'red', 'thrice', 'around', 'red', 'red', 'blue', '</s>'],\n",
       " ['<s>', 'red', 'thrice', 'thrice', 'thrice', 'around', 'thrice', '</s>'],\n",
       " ['<s>', 'red', 'red', 'thrice', 'green', 'around', 'red', '</s>'],\n",
       " ['<s>', 'red', 'thrice', 'thrice', 'around', 'around', 'red', '</s>'],\n",
       " ['<s>', 'red', 'thrice', 'around', 'after', 'red', 'yellow', '</s>'],\n",
       " ['<s>', 'red', 'around', 'red', 'thrice', 'after', 'after', '</s>'],\n",
       " ['<s>', 'red', 'around', 'thrice', 'around', 'green', 'red', '</s>'],\n",
       " ['<s>', 'red', 'after', 'thrice', 'red', 'red', 'thrice', '</s>'],\n",
       " ['<s>', 'red', 'around', 'around', 'red', 'thrice', '</s>'],\n",
       " ['<s>', 'red', 'around', 'red', 'thrice', 'blue', 'thrice', '</s>'],\n",
       " ['<s>', 'red', 'around', 'thrice', 'green', 'thrice', 'thrice', '</s>'],\n",
       " ['<s>', 'red', 'around', 'green', 'thrice', 'blue', 'red', '</s>'],\n",
       " ['<s>', 'red', 'around', 'green', 'red', 'thrice', 'around', '</s>'],\n",
       " ['<s>', 'red', 'thrice', 'around', 'green', '</s>'],\n",
       " ['<s>', 'red', 'red', 'thrice', 'around', 'thrice', 'after', '</s>'],\n",
       " ['<s>', 'red', 'thrice', 'red', 'red', 'thrice', 'after', '</s>'],\n",
       " ['<s>', 'red', 'around', 'thrice', 'purple', 'thrice', 'red', '</s>'],\n",
       " ['<s>', 'red', 'thrice', 'around', 'after', 'red', 'thrice', '</s>'],\n",
       " ['<s>', 'red', '</s>'],\n",
       " ['<s>', 'red', 'around', 'around', 'around', 'red', 'around', '</s>'],\n",
       " ['<s>', 'red', 'around', 'red', 'thrice', 'thrice', '</s>'],\n",
       " ['<s>', 'red', 'red', 'around', 'red', 'after', 'thrice', '</s>'],\n",
       " ['<s>', 'red', 'after', 'red', 'around', 'red', 'blue', '</s>'],\n",
       " ['<s>', 'red', 'red', 'red', 'thrice', 'green', 'around', '</s>'],\n",
       " ['<s>', 'red', 'thrice', 'red', 'around', 'thrice', 'blue', '</s>'],\n",
       " ['<s>', 'red', 'red', 'after', 'around', 'red', 'around', '</s>'],\n",
       " ['<s>', 'red', 'around', 'red', 'green', '</s>'],\n",
       " ['<s>', 'red', 'red', 'thrice', 'around', '</s>'],\n",
       " ['<s>', 'red', 'around', 'red', 'after', 'red', 'thrice', '</s>'],\n",
       " ['<s>', 'red', 'around', 'red', 'after', 'thrice', 'green', '</s>'],\n",
       " ['<s>', 'red', 'around', 'thrice', 'after', 'around', 'around', '</s>'],\n",
       " ['<s>', 'red', 'around', 'around', 'around', 'thrice', '</s>'],\n",
       " ['<s>', 'red', 'red', 'thrice', 'thrice', 'around', 'pink', '</s>'],\n",
       " ['<s>', 'red', 'around', 'thrice', 'blue', 'red', 'thrice', '</s>'],\n",
       " ['<s>', 'red', 'red', 'thrice', 'around', 'blue', 'around', '</s>'],\n",
       " ['<s>', 'red', 'around', 'thrice', 'red', 'thrice', 'blue', '</s>'],\n",
       " ['<s>', 'red', 'thrice', 'around', 'thrice', 'thrice', 'thrice', '</s>'],\n",
       " ['<s>', 'red', 'around', 'red', 'red', 'around', 'thrice', '</s>'],\n",
       " ['<s>', 'red', 'thrice', 'red', 'thrice', 'around', 'green', '</s>'],\n",
       " ['<s>', 'red', 'thrice', 'red', 'around', 'blue', 'around', '</s>'],\n",
       " ['<s>', 'red', 'around', 'thrice', 'around', 'yellow', 'red', '</s>'],\n",
       " ['<s>', 'red', 'thrice', 'thrice', 'around', 'red', 'thrice', '</s>'],\n",
       " ['<s>', 'red', 'thrice', 'red', 'red', 'around', 'after', '</s>'],\n",
       " ['<s>', 'red', 'thrice', 'red', 'around', 'around', 'red', '</s>'],\n",
       " ['<s>', 'red', 'red', 'around', 'red', 'after', 'after', '</s>'],\n",
       " ['<s>', 'red', 'around', 'red', 'red', 'green', 'thrice', '</s>'],\n",
       " ['<s>', 'red', 'around', 'red', 'thrice', 'thrice', 'after', '</s>'],\n",
       " ['<s>', 'red', 'around', 'thrice', 'red', '</s>'],\n",
       " ['<s>', 'red', 'thrice', 'around', 'thrice', 'after', 'green', '</s>'],\n",
       " ['<s>', 'red', 'around', 'red', 'red', 'thrice', 'thrice', '</s>'],\n",
       " ['<s>', 'red', 'red', 'thrice', 'red', 'thrice', 'blue', '</s>'],\n",
       " ['<s>', 'red', 'thrice', 'red', 'around', 'around', 'green', '</s>'],\n",
       " ['<s>', 'red', 'thrice', 'around', 'around', 'thrice', 'around', '</s>'],\n",
       " ['<s>', 'red', 'around', 'red', 'thrice', 'around', 'around', '</s>'],\n",
       " ['<s>', 'red', 'around', 'red', 'around', 'after', 'pink', '</s>']]"
      ]
     },
     "execution_count": 220,
     "metadata": {},
     "output_type": "execute_result"
    }
   ],
   "source": [
    "ux "
   ]
  },
  {
   "cell_type": "code",
   "execution_count": 126,
   "metadata": {
    "scrolled": true
   },
   "outputs": [
    {
     "name": "stdout",
     "output_type": "stream",
     "text": [
      "tensor([-5.6818], device='cuda:0', grad_fn=<NegBackward>)\n"
     ]
    }
   ],
   "source": [
    "for y in ys.split(1,dim=1):\n",
    "    ybatch = y.repeat(1, xps.shape[1])\n",
    "    logprob_qxy = model.qxy.logprob(ys, xps)\n",
    "    print(logprob_qxy)"
   ]
  },
  {
   "cell_type": "code",
   "execution_count": 122,
   "metadata": {},
   "outputs": [
    {
     "data": {
      "text/plain": [
       "tensor([[12],\n",
       "        [12],\n",
       "        [12],\n",
       "        [12],\n",
       "        [11],\n",
       "        [11],\n",
       "        [ 2]], device='cuda:0')"
      ]
     },
     "execution_count": 122,
     "metadata": {},
     "output_type": "execute_result"
    }
   ],
   "source": [
    "logp.argmax(dim=2)"
   ]
  },
  {
   "cell_type": "code",
   "execution_count": 127,
   "metadata": {},
   "outputs": [
    {
     "ename": "ValueError",
     "evalue": "Expected target size (1, 7), got torch.Size([1, 12])",
     "output_type": "error",
     "traceback": [
      "\u001b[0;31m---------------------------------------------------------------------------\u001b[0m",
      "\u001b[0;31mValueError\u001b[0m                                Traceback (most recent call last)",
      "\u001b[0;32m<ipython-input-127-fb7407fd7f13>\u001b[0m in \u001b[0;36m<module>\u001b[0;34m\u001b[0m\n\u001b[0;32m----> 1\u001b[0;31m \u001b[0mF\u001b[0m\u001b[0;34m.\u001b[0m\u001b[0mnll_loss\u001b[0m\u001b[0;34m(\u001b[0m\u001b[0mlogp\u001b[0m\u001b[0;34m.\u001b[0m\u001b[0mpermute\u001b[0m\u001b[0;34m(\u001b[0m\u001b[0;36m1\u001b[0m\u001b[0;34m,\u001b[0m\u001b[0;36m2\u001b[0m\u001b[0;34m,\u001b[0m\u001b[0;36m0\u001b[0m\u001b[0;34m)\u001b[0m\u001b[0;34m,\u001b[0m \u001b[0mxps\u001b[0m\u001b[0;34m[\u001b[0m\u001b[0;36m1\u001b[0m\u001b[0;34m:\u001b[0m\u001b[0;34m,\u001b[0m\u001b[0;34m:\u001b[0m\u001b[0;34m]\u001b[0m\u001b[0;34m.\u001b[0m\u001b[0mtranspose\u001b[0m\u001b[0;34m(\u001b[0m\u001b[0;36m0\u001b[0m\u001b[0;34m,\u001b[0m\u001b[0;36m1\u001b[0m\u001b[0;34m)\u001b[0m\u001b[0;34m,\u001b[0m \u001b[0mreduction\u001b[0m\u001b[0;34m=\u001b[0m\u001b[0;34m'none'\u001b[0m\u001b[0;34m)\u001b[0m\u001b[0;34m\u001b[0m\u001b[0;34m\u001b[0m\u001b[0m\n\u001b[0m",
      "\u001b[0;32m/raid/lingo/akyurek/anaconda3/lib/python3.7/site-packages/torch/nn/functional.py\u001b[0m in \u001b[0;36mnll_loss\u001b[0;34m(input, target, weight, size_average, ignore_index, reduce, reduction)\u001b[0m\n\u001b[1;32m   2123\u001b[0m         \u001b[0;32mif\u001b[0m \u001b[0mtarget\u001b[0m\u001b[0;34m.\u001b[0m\u001b[0msize\u001b[0m\u001b[0;34m(\u001b[0m\u001b[0;34m)\u001b[0m\u001b[0;34m[\u001b[0m\u001b[0;36m1\u001b[0m\u001b[0;34m:\u001b[0m\u001b[0;34m]\u001b[0m \u001b[0;34m!=\u001b[0m \u001b[0minput\u001b[0m\u001b[0;34m.\u001b[0m\u001b[0msize\u001b[0m\u001b[0;34m(\u001b[0m\u001b[0;34m)\u001b[0m\u001b[0;34m[\u001b[0m\u001b[0;36m2\u001b[0m\u001b[0;34m:\u001b[0m\u001b[0;34m]\u001b[0m\u001b[0;34m:\u001b[0m\u001b[0;34m\u001b[0m\u001b[0;34m\u001b[0m\u001b[0m\n\u001b[1;32m   2124\u001b[0m             raise ValueError('Expected target size {}, got {}'.format(\n\u001b[0;32m-> 2125\u001b[0;31m                 out_size, target.size()))\n\u001b[0m\u001b[1;32m   2126\u001b[0m         \u001b[0minput\u001b[0m \u001b[0;34m=\u001b[0m \u001b[0minput\u001b[0m\u001b[0;34m.\u001b[0m\u001b[0mcontiguous\u001b[0m\u001b[0;34m(\u001b[0m\u001b[0;34m)\u001b[0m\u001b[0;34m\u001b[0m\u001b[0;34m\u001b[0m\u001b[0m\n\u001b[1;32m   2127\u001b[0m         \u001b[0mtarget\u001b[0m \u001b[0;34m=\u001b[0m \u001b[0mtarget\u001b[0m\u001b[0;34m.\u001b[0m\u001b[0mcontiguous\u001b[0m\u001b[0;34m(\u001b[0m\u001b[0;34m)\u001b[0m\u001b[0;34m\u001b[0m\u001b[0;34m\u001b[0m\u001b[0m\n",
      "\u001b[0;31mValueError\u001b[0m: Expected target size (1, 7), got torch.Size([1, 12])"
     ]
    }
   ],
   "source": [
    "F.nll_loss(logp.permute(1,2,0), xps[1:,:].transpose(0,1), reduction='none')"
   ]
  },
  {
   "cell_type": "code",
   "execution_count": 128,
   "metadata": {},
   "outputs": [
    {
     "data": {
      "text/plain": [
       "tensor([[ 6,  9,  6, 13,  6,  8,  2,  0,  0,  0,  0,  0]], device='cuda:0')"
      ]
     },
     "execution_count": 128,
     "metadata": {},
     "output_type": "execute_result"
    }
   ],
   "source": [
    "xps[1:,:].transpose(0,1)"
   ]
  },
  {
   "cell_type": "code",
   "execution_count": 129,
   "metadata": {},
   "outputs": [
    {
     "data": {
      "text/plain": [
       "tensor([-5.6818], device='cuda:0', grad_fn=<NegBackward>)"
      ]
     },
     "execution_count": 129,
     "metadata": {},
     "output_type": "execute_result"
    }
   ],
   "source": [
    "logprob_qxy"
   ]
  },
  {
   "cell_type": "code",
   "execution_count": 130,
   "metadata": {},
   "outputs": [],
   "source": [
    "logprob_px = model.px.logprob(xps)"
   ]
  },
  {
   "cell_type": "code",
   "execution_count": 131,
   "metadata": {},
   "outputs": [
    {
     "data": {
      "text/plain": [
       "tensor([-26.6667], device='cuda:0', grad_fn=<NegBackward>)"
      ]
     },
     "execution_count": 131,
     "metadata": {},
     "output_type": "execute_result"
    }
   ],
   "source": [
    "logprob_px "
   ]
  },
  {
   "cell_type": "code",
   "execution_count": null,
   "metadata": {},
   "outputs": [],
   "source": []
  },
  {
   "cell_type": "code",
   "execution_count": null,
   "metadata": {},
   "outputs": [],
   "source": []
  }
 ],
 "metadata": {
  "kernelspec": {
   "display_name": "Python 3",
   "language": "python",
   "name": "python3"
  },
  "language_info": {
   "codemirror_mode": {
    "name": "ipython",
    "version": 3
   },
   "file_extension": ".py",
   "mimetype": "text/x-python",
   "name": "python",
   "nbconvert_exporter": "python",
   "pygments_lexer": "ipython3",
   "version": "3.7.6"
  }
 },
 "nbformat": 4,
 "nbformat_minor": 4
}
