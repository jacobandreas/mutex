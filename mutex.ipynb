{
 "cells": [
  {
   "cell_type": "code",
   "execution_count": 1,
   "metadata": {},
   "outputs": [],
   "source": [
    "import torch\n",
    "from torch import nn, optim\n",
    "import torch.utils.data as torch_data\n",
    "import torch.nn.functional as F\n",
    "import itertools as it\n",
    "import numpy as np\n",
    "import random\n",
    "from itertools import combinations, product\n",
    "from mutex import EncDec, Vocab, batch_seqs, Mutex\n",
    "from data import encode,  generate_fig2_exp, Oracle, collate, eval_format\n",
    "from absl import app, flags\n",
    "import sys\n",
    "import os"
   ]
  },
  {
   "cell_type": "code",
   "execution_count": 2,
   "metadata": {},
   "outputs": [],
   "source": [
    "import seaborn as sns; sns.set()\n",
    "import matplotlib.pyplot as plt\n",
    "import pandas as pd\n",
    "plt.rcParams['figure.dpi'] = 250"
   ]
  },
  {
   "cell_type": "code",
   "execution_count": 3,
   "metadata": {},
   "outputs": [],
   "source": [
    "input_symbols_list   = set(['dax', 'lug', 'wif', 'zup', 'fep', 'blicket', 'kiki', 'tufa', 'gazzer'])\n",
    "output_symbols_list  = set(['RED', 'YELLOW', 'GREEN', 'BLUE', 'PURPLE', 'PINK'])"
   ]
  },
  {
   "cell_type": "code",
   "execution_count": 4,
   "metadata": {},
   "outputs": [
    {
     "name": "stdout",
     "output_type": "stream",
     "text": [
      "color map:  {'wif': 'PURPLE', 'lug': 'YELLOW', 'zup': 'GREEN', 'gazzer': 'PINK'}\n",
      "function names:  ['dax', 'fep', 'kiki']\n"
     ]
    }
   ],
   "source": [
    "study, test = generate_fig2_exp(input_symbols_list, output_symbols_list)"
   ]
  },
  {
   "cell_type": "code",
   "execution_count": 5,
   "metadata": {},
   "outputs": [
    {
     "data": {
      "text/plain": [
       "[(['wif'], ['PURPLE']),\n",
       " (['lug'], ['YELLOW']),\n",
       " (['zup'], ['GREEN']),\n",
       " (['gazzer'], ['PINK']),\n",
       " (['lug', 'dax'], ['YELLOW', 'YELLOW', 'YELLOW']),\n",
       " (['zup', 'dax'], ['GREEN', 'GREEN', 'GREEN']),\n",
       " (['lug', 'fep', 'zup'], ['YELLOW', 'GREEN', 'YELLOW']),\n",
       " (['wif', 'fep', 'gazzer'], ['PURPLE', 'PINK', 'PURPLE']),\n",
       " (['lug', 'kiki', 'zup'], ['GREEN', 'YELLOW']),\n",
       " (['lug', 'kiki', 'gazzer'], ['PINK', 'YELLOW']),\n",
       " (['gazzer', 'fep', 'zup', 'dax'],\n",
       "  ['PINK', 'GREEN', 'GREEN', 'GREEN', 'PINK']),\n",
       " (['lug', 'fep', 'zup', 'dax'],\n",
       "  ['YELLOW', 'GREEN', 'GREEN', 'GREEN', 'YELLOW']),\n",
       " (['wif', 'fep', 'wif', 'kiki', 'zup'],\n",
       "  ['PURPLE', 'GREEN', 'PURPLE', 'PURPLE']),\n",
       " (['gazzer', 'kiki', 'gazzer', 'fep', 'lug'],\n",
       "  ['PINK', 'PINK', 'YELLOW', 'PINK', 'PINK'])]"
      ]
     },
     "execution_count": 5,
     "metadata": {},
     "output_type": "execute_result"
    }
   ],
   "source": [
    "study"
   ]
  },
  {
   "cell_type": "code",
   "execution_count": 6,
   "metadata": {},
   "outputs": [
    {
     "data": {
      "text/plain": [
       "[(['wif', 'dax'], ['PURPLE', 'PURPLE', 'PURPLE']),\n",
       " (['gazzer', 'dax'], ['PINK', 'PINK', 'PINK']),\n",
       " (['wif', 'fep', 'lug'], ['PURPLE', 'YELLOW', 'PURPLE']),\n",
       " (['lug', 'fep', 'gazzer'], ['YELLOW', 'PINK', 'YELLOW']),\n",
       " (['wif', 'kiki', 'zup'], ['GREEN', 'PURPLE']),\n",
       " (['wif', 'kiki', 'lug'], ['YELLOW', 'PURPLE']),\n",
       " (['wif', 'kiki', 'gazzer', 'dax'], ['PINK', 'PINK', 'PINK', 'PURPLE']),\n",
       " (['lug', 'fep', 'gazzer', 'dax'],\n",
       "  ['YELLOW', 'PINK', 'PINK', 'PINK', 'YELLOW']),\n",
       " (['wif', 'kiki', 'gazzer', 'fep', 'lug'],\n",
       "  ['PINK', 'PURPLE', 'YELLOW', 'PINK', 'PURPLE']),\n",
       " (['gazzer', 'dax', 'fep', 'gazzer', 'kiki', 'zup'],\n",
       "  ['PINK', 'PINK', 'PINK', 'GREEN', 'PINK', 'PINK', 'PINK', 'PINK']),\n",
       " (['gazzer', 'dax', 'fep', 'wif', 'kiki', 'gazzer'],\n",
       "  ['PINK', 'PINK', 'PINK', 'PINK', 'PURPLE', 'PINK', 'PINK', 'PINK'])]"
      ]
     },
     "execution_count": 6,
     "metadata": {},
     "output_type": "execute_result"
    }
   ],
   "source": [
    "test"
   ]
  },
  {
   "cell_type": "code",
   "execution_count": 22,
   "metadata": {},
   "outputs": [
    {
     "data": {
      "text/plain": [
       "['mutex.ipynb']"
      ]
     },
     "execution_count": 22,
     "metadata": {},
     "output_type": "execute_result"
    }
   ],
   "source": [
    "FLAGS = flags.FLAGS\n",
    "flags_dict = FLAGS._flags()\n",
    "keys_list = [keys for keys in flags_dict]\n",
    "for keys in keys_list: delattr(FLAGS,keys)\n",
    "flags.DEFINE_integer(\"dim\", 200, \"trasnformer dimension\")\n",
    "flags.DEFINE_integer(\"n_layers\", 1, \"number of rnn layers\")\n",
    "flags.DEFINE_integer(\"n_batch\", 1, \"batch size\")\n",
    "flags.DEFINE_integer(\"n_epochs\",50, \"number of training epochs\")\n",
    "flags.DEFINE_float(\"lr\", 0.001, \"learning rate\")\n",
    "flags.DEFINE_float(\"dropout\", 0.05, \"dropout\")\n",
    "flags.DEFINE_string(\"save_model\", \"model.m\", \"model save location\")\n",
    "flags.DEFINE_integer(\"seed\", 2, \"random seed\")\n",
    "FLAGS(['mutex.ipynb'])"
   ]
  },
  {
   "cell_type": "code",
   "execution_count": 23,
   "metadata": {},
   "outputs": [],
   "source": [
    "DEVICE = torch.device(\"cuda:0\")"
   ]
  },
  {
   "cell_type": "code",
   "execution_count": 24,
   "metadata": {},
   "outputs": [],
   "source": [
    "def pretrain(model, train_dataset, val_dataset):\n",
    "    opt = optim.Adam(model.parameters(), lr=FLAGS.lr)\n",
    "    train_loader = torch_data.DataLoader(\n",
    "        train_dataset, batch_size=FLAGS.n_batch, shuffle=False, \n",
    "        collate_fn=collate\n",
    "    )\n",
    "    best_loss  = np.inf\n",
    "    for i_epoch in range(FLAGS.n_epochs):\n",
    "        model.train()\n",
    "        train_loss = 0\n",
    "        train_batches = 0\n",
    "        for inp, _ in train_loader:\n",
    "            x = inp[:-1,:]\n",
    "            pred, *extras = model(None, x.shape[0], x.to(DEVICE))\n",
    "            output = pred.view(-1, len(model.vocab))\n",
    "            loss = model.nllreduce(output,inp[1:, :].view(-1).to(DEVICE))\n",
    "            opt.zero_grad()\n",
    "            loss.backward()\n",
    "#             nn.utils.clip_grad_norm_(model.parameters(), 0.5)\n",
    "            opt.step()\n",
    "            train_loss    += loss.item() * inp.shape[1]\n",
    "            train_batches += inp.shape[1]\n",
    "\n",
    "        if (i_epoch + 1) % 3 != 0:\n",
    "            continue\n",
    "\n",
    "        curr_loss = train_loss / train_batches\n",
    "        best_loss = min(best_loss, curr_loss)\n",
    "        print(curr_loss)\n",
    "        torch.save(model.state_dict(), FLAGS.save_model)\n",
    "\n",
    "    print(\"best_loss\", best_loss)\n",
    "\n",
    "    \n",
    "    \n",
    "def train(model, train_dataset, val_dataset):\n",
    "    opt = optim.Adam(model.parameters(), lr=FLAGS.lr)\n",
    "    train_loader = torch_data.DataLoader(\n",
    "        train_dataset, batch_size=FLAGS.n_batch, shuffle=False, \n",
    "        collate_fn=collate\n",
    "    )\n",
    "    best_f1  = -np.inf\n",
    "    best_acc = -np.inf\n",
    "    for i_epoch in range(FLAGS.n_epochs):\n",
    "        model.train()\n",
    "        train_loss = 0\n",
    "        train_batches = 0\n",
    "        for inp, out in train_loader:\n",
    "            nll = model(inp.to(DEVICE), out.to(DEVICE))\n",
    "            loss = nll.mean()\n",
    "            opt.zero_grad()\n",
    "            loss.backward()\n",
    "            nn.utils.clip_grad_norm_(model.parameters(), 0.5)\n",
    "            opt.step()\n",
    "            train_loss += loss.item()\n",
    "            train_batches += 1\n",
    "        \n",
    "        if (i_epoch + 1) % 3 != 0:\n",
    "            continue\n",
    "            \n",
    "        \n",
    "        print(train_loss / train_batches)\n",
    "        acc, f1 = validate(model, val_dataset)\n",
    "        print(f\"epoch_{i_epoch}_acc\", acc)\n",
    "        print(f\"epoch_{i_epoch}_f1\", f1)\n",
    "        best_f1 = max(best_f1, f1)\n",
    "        best_acc = max(best_acc, acc)\n",
    "        print()\n",
    "        torch.save(model.state_dict(), FLAGS.save_model)\n",
    "\n",
    "    print(\"final_acc\", acc)\n",
    "    print(\"final_f1\", f1)\n",
    "    print(\"best_acc\", best_acc)\n",
    "    print(\"best_f1\", best_f1)\n",
    "\n",
    "\n",
    "def validate(model, val_dataset, vis=False, tag=[]):\n",
    "    model.eval()\n",
    "    first = True\n",
    "    val_loader = torch_data.DataLoader(\n",
    "        val_dataset, batch_size=FLAGS.n_batch, shuffle=True, \n",
    "        collate_fn=collate\n",
    "    )\n",
    "    total = 0\n",
    "    correct = 0\n",
    "    tp = 0\n",
    "    fp = 0\n",
    "    fn = 0\n",
    "    with torch.no_grad():\n",
    "        for inp, out in val_loader:\n",
    "            pred, _ = model.sample(inp.to(DEVICE), temp=1.0, max_len=3, greedy=True)\n",
    "            for i, seq in enumerate(pred):\n",
    "                ref = out[:, i].detach().cpu().numpy().tolist()\n",
    "                ref = eval_format(model.vocab, ref)\n",
    "                pred_here = eval_format(model.vocab, pred[i])\n",
    "                correct_here = pred_here == ref\n",
    "                correct += correct_here\n",
    "                tp_here = len([p for p in pred_here if p in ref])\n",
    "                tp += tp_here\n",
    "                fp_here = len([p for p in pred_here if p not in ref])\n",
    "                fp += fp_here\n",
    "                fn_here = len([p for p in ref if p not in pred_here])\n",
    "                fn += fn_here\n",
    "                path = \"/\" + \"/\".join(tag)\n",
    "                if vis:\n",
    "                    print(f\"@{path}/{total}\", correct_here, tp_here, fp_here, fn_here)\n",
    "                    inp_lst = inp[:, i].detach().cpu().numpy().tolist()\n",
    "                    print(eval_format(model.vocab, inp_lst))\n",
    "                    print(\"gold\", ref)\n",
    "                    print(\"pred\", pred_here)\n",
    "                    print(pred_here == ref)\n",
    "                    print()\n",
    "                total += 1\n",
    "\n",
    "    acc = correct / total\n",
    "    if tp+fp > 0:\n",
    "        prec = tp / (tp + fp)\n",
    "    else:\n",
    "        prec=0\n",
    "    rec = tp / (tp + fn)\n",
    "    if prec == 0 or rec == 0:\n",
    "        f1 = 0\n",
    "    else:\n",
    "        f1 = 2 * prec * rec / (prec + rec)\n",
    "    return acc, f1\n",
    "\n",
    "def swap_io(items):\n",
    "    return [(y,x) for (x,y) in items]"
   ]
  },
  {
   "cell_type": "code",
   "execution_count": 25,
   "metadata": {},
   "outputs": [],
   "source": [
    "def main(model=None):\n",
    "    np.random.seed(FLAGS.seed)\n",
    "    torch.manual_seed(FLAGS.seed)\n",
    "    vocab = Vocab()\n",
    "    for sym in input_symbols_list.union(output_symbols_list): \n",
    "        vocab.add(sym)\n",
    "        \n",
    "    study, test = generate_fig2_exp(input_symbols_list, output_symbols_list)\n",
    "#     for (x,y) in study[0:4]:\n",
    "#         for sym in x+y:\n",
    "# #             vocab.add(sym)\n",
    "    test  = study[3:4]\n",
    "    study  = study[0:3]\n",
    "  \n",
    "    \n",
    "    train_items, test_items = encode(study,vocab), encode(test,vocab)\n",
    "    \n",
    "\n",
    "\n",
    "    outlist = list(output_symbols_list)\n",
    "\n",
    "    oracle_py  = Oracle(vocab, train_items, test_items, DEVICE, dist=\"py\")\n",
    "    oracle_px  = Oracle(vocab, train_items, test_items, DEVICE, dist=\"px\")\n",
    "    oracle_qxy = Oracle(vocab, train_items, test_items, DEVICE, dist=\"qxy\")\n",
    "    \n",
    "    if model is None:\n",
    "        model = Mutex(vocab, \n",
    "                      FLAGS.dim, \n",
    "                      FLAGS.dim, \n",
    "                      oracle_py, \n",
    "                      max_len=3,\n",
    "                      copy=False, \n",
    "                      n_layers=FLAGS.n_layers, \n",
    "                      self_att=False, \n",
    "                      dropout=FLAGS.dropout,\n",
    "                      lamda=0.1,\n",
    "                      Nsample=50,\n",
    "                     ).to(DEVICE)\n",
    "    \n",
    "    if not isinstance(model.px,Oracle):\n",
    "        pretrain(model.px, train_items + test_items, test_items)\n",
    "        \n",
    "    print(\"px samples: \")\n",
    "    print(model.sample_px(50))\n",
    "    print(\"py samples: \")\n",
    "    print(model.sample_py(50))\n",
    "    \n",
    "#     if not isinstance(model.qxy,Oracle):\n",
    "#         train(model.qxy, swap_io(train_items) + swap_io(test_items), swap_io(test_items))\n",
    "#     if not isinstance(model.pyx,Oracle):\n",
    "#         train(model.pyx, train_items + test_items, test_items)\n",
    "#         for param in model.pyx.parameters():\n",
    "#             param.requires_grad = False\n",
    "    \n",
    "    print(\"qxy samples: \", model.sample_qxy(model.py.sample(5,5),temp=1.0))\n",
    "    \n",
    "    train(model, train_items, test_items)\n",
    "    return model, study, test"
   ]
  },
  {
   "cell_type": "code",
   "execution_count": 26,
   "metadata": {},
   "outputs": [
    {
     "name": "stdout",
     "output_type": "stream",
     "text": [
      "color map:  {'gazzer': 'PURPLE', 'zup': 'GREEN', 'tufa': 'PINK', 'kiki': 'BLUE'}\n",
      "function names:  ['lug', 'dax', 'blicket']\n",
      "1.0808934271335602\n",
      "0.7274663150310516\n",
      "0.7203683853149414\n",
      "0.7061614692211151\n",
      "0.6878930628299713\n",
      "0.7104584872722626\n",
      "0.7131137251853943\n",
      "0.7233929336071014\n",
      "0.7061256766319275\n",
      "0.6846395134925842\n",
      "0.6740125417709351\n",
      "0.7150807976722717\n",
      "0.720728725194931\n",
      "0.7005501687526703\n",
      "0.7243194282054901\n",
      "0.6916623711585999\n",
      "best_loss 0.6740125417709351\n",
      "px samples: \n",
      "['<s> kiki </s>', '<s> zup </s>', '<s> gazzer </s>', '<s> kiki </s>', '<s> kiki </s>', '<s> kiki </s>', '<s> zup </s>', '<s> gazzer </s>', '<s> kiki </s>', '<s> kiki </s>', '<s> gazzer </s>', '<s> gazzer </s>', '<s> zup </s>', '<s> gazzer </s>', '<s> zup </s>', '<s> tufa </s>', '<s> tufa </s>', '<s> kiki </s>', '<s> tufa </s>', '<s> zup </s>', '<s> kiki </s>', '<s> zup </s>', '<s> kiki </s>', '<s> zup </s>', '<s> zup </s>', '<s> gazzer </s>', '<s> kiki </s>', '<s> zup </s>', '<s> zup </s>', '<s> kiki </s>', '<s> kiki </s>', '<s> zup </s>', '<s> gazzer </s>', '<s> kiki </s>', '<s> kiki </s>', '<s> kiki </s>', '<s> tufa </s>', '<s> gazzer </s>', '<s> zup </s>', '<s> gazzer </s>', '<s> tufa </s>', '<s> kiki </s>', '<s> tufa </s>', '<s> kiki </s>', '<s> gazzer </s>', '<s> kiki </s>', '<s> kiki </s>', '<s> tufa </s>', '<s> gazzer </s>', '<s> tufa </s>']\n",
      "py samples: \n",
      "['<s> BLUE </s>', '<s> PURPLE </s>', '<s> PURPLE </s>', '<s> BLUE </s>', '<s> GREEN </s>', '<s> PURPLE </s>', '<s> PURPLE </s>', '<s> GREEN </s>', '<s> PINK </s>', '<s> GREEN </s>', '<s> PURPLE </s>', '<s> PURPLE </s>', '<s> PURPLE </s>', '<s> BLUE </s>', '<s> PINK </s>', '<s> BLUE </s>', '<s> PURPLE </s>', '<s> PINK </s>', '<s> PINK </s>', '<s> PINK </s>', '<s> BLUE </s>', '<s> PINK </s>', '<s> GREEN </s>', '<s> BLUE </s>', '<s> PINK </s>', '<s> GREEN </s>', '<s> PURPLE </s>', '<s> PURPLE </s>', '<s> PINK </s>', '<s> PINK </s>', '<s> GREEN </s>', '<s> BLUE </s>', '<s> PURPLE </s>', '<s> PINK </s>', '<s> PURPLE </s>', '<s> GREEN </s>', '<s> BLUE </s>', '<s> GREEN </s>', '<s> PURPLE </s>', '<s> GREEN </s>', '<s> PINK </s>', '<s> BLUE </s>', '<s> PINK </s>', '<s> PURPLE </s>', '<s> PURPLE </s>', '<s> BLUE </s>', '<s> BLUE </s>', '<s> PINK </s>', '<s> PURPLE </s>', '<s> PURPLE </s>']\n",
      "qxy samples:  ['<s> tufa </s>', '<s> </s>', '<s> YELLOW </s>', '<s> tufa </s>', '<s> dax </s>']\n",
      "0.8944021264712015\n",
      "epoch_2_acc 0.0\n",
      "epoch_2_f1 0\n",
      "\n",
      "0.3906758725643158\n",
      "epoch_5_acc 0.0\n",
      "epoch_5_f1 0\n",
      "\n",
      "0.1774707039197286\n",
      "epoch_8_acc 0.0\n",
      "epoch_8_f1 0\n",
      "\n",
      "0.14035701751708984\n",
      "epoch_11_acc 1.0\n",
      "epoch_11_f1 1.0\n",
      "\n",
      "0.12441539764404297\n",
      "epoch_14_acc 0.0\n",
      "epoch_14_f1 0\n",
      "\n",
      "0.08680826425552368\n",
      "epoch_17_acc 1.0\n",
      "epoch_17_f1 1.0\n",
      "\n",
      "0.0958813801407814\n",
      "epoch_20_acc 0.0\n",
      "epoch_20_f1 0\n",
      "\n",
      "0.075898261119922\n",
      "epoch_23_acc 0.0\n",
      "epoch_23_f1 0\n",
      "\n",
      "0.056933559477329254\n",
      "epoch_26_acc 1.0\n",
      "epoch_26_f1 1.0\n",
      "\n",
      "0.07053419947624207\n",
      "epoch_29_acc 1.0\n",
      "epoch_29_f1 1.0\n",
      "\n",
      "0.08584299435218175\n",
      "epoch_32_acc 1.0\n",
      "epoch_32_f1 1.0\n",
      "\n",
      "0.07981812208890915\n",
      "epoch_35_acc 1.0\n",
      "epoch_35_f1 1.0\n",
      "\n",
      "0.08704342196385066\n",
      "epoch_38_acc 1.0\n",
      "epoch_38_f1 1.0\n",
      "\n",
      "0.09641164789597194\n",
      "epoch_41_acc 1.0\n",
      "epoch_41_f1 1.0\n",
      "\n",
      "0.0648639053106308\n",
      "epoch_44_acc 1.0\n",
      "epoch_44_f1 1.0\n",
      "\n",
      "0.0669570763905843\n",
      "epoch_47_acc 1.0\n",
      "epoch_47_f1 1.0\n",
      "\n",
      "final_acc 1.0\n",
      "final_f1 1.0\n",
      "best_acc 1.0\n",
      "best_f1 1.0\n"
     ]
    }
   ],
   "source": [
    "model, study, test = main()"
   ]
  },
  {
   "cell_type": "code",
   "execution_count": 27,
   "metadata": {},
   "outputs": [
    {
     "name": "stdout",
     "output_type": "stream",
     "text": [
      "qxy samples:  ['<s> gazzer </s>', '<s> kiki </s>', '<s> tufa </s>', '<s> kiki </s>', '<s> tufa </s>']\n"
     ]
    }
   ],
   "source": [
    "print(\"qxy samples: \", model.sample_qxy(model.py.sample(5,3),temp=1.0))"
   ]
  },
  {
   "cell_type": "code",
   "execution_count": 28,
   "metadata": {},
   "outputs": [],
   "source": [
    "ys = model.py.sample(20,3)"
   ]
  },
  {
   "cell_type": "code",
   "execution_count": 29,
   "metadata": {},
   "outputs": [
    {
     "name": "stdout",
     "output_type": "stream",
     "text": [
      "qxy samples:  ['<s> kiki </s>', '<s> kiki </s>', '<s> gazzer </s>', '<s> kiki </s>', '<s> kiki </s>', '<s> kiki </s>', '<s> kiki </s>', '<s> zup </s>', '<s> gazzer </s>', '<s> gazzer </s>', '<s> kiki </s>', '<s> kiki </s>', '<s> kiki </s>', '<s> kiki </s>', '<s> gazzer </s>', '<s> kiki </s>', '<s> zup </s>', '<s> tufa </s>', '<s> tufa </s>', '<s> kiki </s>']\n"
     ]
    }
   ],
   "source": [
    "print(\"qxy samples: \", model.sample_qxy(ys,temp=1.0))"
   ]
  },
  {
   "cell_type": "code",
   "execution_count": 30,
   "metadata": {},
   "outputs": [
    {
     "data": {
      "text/plain": [
       "tensor([[ 1,  1,  1,  1,  1,  1,  1,  1,  1,  1,  1,  1,  1,  1,  1,  1,  1,  1,\n",
       "          1,  1],\n",
       "        [ 9,  9,  6,  8,  8,  8,  6, 12,  6,  8,  6,  6,  8,  6,  8,  9, 12,  8,\n",
       "          9,  6],\n",
       "        [ 2,  2,  2,  2,  2,  2,  2,  2,  2,  2,  2,  2,  2,  2,  2,  2,  2,  2,\n",
       "          2,  2]], device='cuda:0')"
      ]
     },
     "execution_count": 30,
     "metadata": {},
     "output_type": "execute_result"
    }
   ],
   "source": [
    "ys"
   ]
  },
  {
   "cell_type": "code",
   "execution_count": 31,
   "metadata": {},
   "outputs": [
    {
     "name": "stdout",
     "output_type": "stream",
     "text": [
      "@//0 True 1 0 0\n",
      "['kiki']\n",
      "gold ['BLUE']\n",
      "pred ['BLUE']\n",
      "True\n",
      "\n"
     ]
    },
    {
     "data": {
      "text/plain": [
       "(1.0, 1.0)"
      ]
     },
     "execution_count": 31,
     "metadata": {},
     "output_type": "execute_result"
    }
   ],
   "source": [
    "validate(model, encode(test,model.vocab), vis=True)"
   ]
  },
  {
   "cell_type": "code",
   "execution_count": 32,
   "metadata": {},
   "outputs": [
    {
     "name": "stdout",
     "output_type": "stream",
     "text": [
      "@//0 True 1 0 0\n",
      "['zup']\n",
      "gold ['GREEN']\n",
      "pred ['GREEN']\n",
      "True\n",
      "\n",
      "@//1 True 1 0 0\n",
      "['gazzer']\n",
      "gold ['PURPLE']\n",
      "pred ['PURPLE']\n",
      "True\n",
      "\n",
      "@//2 True 1 0 0\n",
      "['tufa']\n",
      "gold ['PINK']\n",
      "pred ['PINK']\n",
      "True\n",
      "\n"
     ]
    },
    {
     "data": {
      "text/plain": [
       "(1.0, 1.0)"
      ]
     },
     "execution_count": 32,
     "metadata": {},
     "output_type": "execute_result"
    }
   ],
   "source": [
    "validate(model, encode(study,model.vocab), vis=True)"
   ]
  },
  {
   "cell_type": "code",
   "execution_count": 33,
   "metadata": {},
   "outputs": [
    {
     "data": {
      "text/plain": [
       "[LossTrack(nll=1.4865777492523193, mlogpyx=1.496036171913147, pointkl=4.789502143859863),\n",
       " LossTrack(nll=1.553191900253296, mlogpyx=1.4560503959655762, pointkl=4.386045932769775),\n",
       " LossTrack(nll=1.4935214519500732, mlogpyx=1.426314115524292, pointkl=3.854433298110962),\n",
       " LossTrack(nll=0.9756819009780884, mlogpyx=1.3644922971725464, pointkl=3.056746244430542),\n",
       " LossTrack(nll=1.2070704698562622, mlogpyx=1.3012762069702148, pointkl=2.043686866760254),\n",
       " LossTrack(nll=1.201622486114502, mlogpyx=1.1390774250030518, pointkl=1.1041932106018066),\n",
       " LossTrack(nll=0.6081950068473816, mlogpyx=1.1314414739608765, pointkl=0.371793270111084),\n",
       " LossTrack(nll=0.8562427163124084, mlogpyx=1.1070212125778198, pointkl=0.16253384947776794),\n",
       " LossTrack(nll=0.8803016543388367, mlogpyx=1.081536054611206, pointkl=0.11238595098257065),\n",
       " LossTrack(nll=0.408557653427124, mlogpyx=1.0529685020446777, pointkl=0.05214185267686844),\n",
       " LossTrack(nll=0.6541857719421387, mlogpyx=1.0949798822402954, pointkl=-0.0002864564012270421),\n",
       " LossTrack(nll=0.6154372692108154, mlogpyx=1.0448976755142212, pointkl=0.019286934286355972),\n",
       " LossTrack(nll=0.3185451030731201, mlogpyx=1.1560564041137695, pointkl=0.10745110362768173),\n",
       " LossTrack(nll=0.48037683963775635, mlogpyx=1.2072492837905884, pointkl=0.0680629163980484),\n",
       " LossTrack(nll=0.39271092414855957, mlogpyx=1.3399288654327393, pointkl=-0.0030275550670921803),\n",
       " LossTrack(nll=0.2707102298736572, mlogpyx=1.2094125747680664, pointkl=-0.00022689848265144974),\n",
       " LossTrack(nll=0.3490934371948242, mlogpyx=1.3153833150863647, pointkl=-0.08182094991207123),\n",
       " LossTrack(nll=0.17897510528564453, mlogpyx=1.2062872648239136, pointkl=0.09610075503587723),\n",
       " LossTrack(nll=0.21413707733154297, mlogpyx=1.1288926601409912, pointkl=0.0323420986533165),\n",
       " LossTrack(nll=0.2112569808959961, mlogpyx=1.1717065572738647, pointkl=0.14221414923667908),\n",
       " LossTrack(nll=0.10936284065246582, mlogpyx=1.3177953958511353, pointkl=0.04338772967457771),\n",
       " LossTrack(nll=0.12446737289428711, mlogpyx=1.2777446508407593, pointkl=0.13990014791488647),\n",
       " LossTrack(nll=0.10911250114440918, mlogpyx=1.1356995105743408, pointkl=0.05921957269310951),\n",
       " LossTrack(nll=0.05287599563598633, mlogpyx=1.3023622035980225, pointkl=0.028775015845894814),\n",
       " LossTrack(nll=0.04633951187133789, mlogpyx=1.5125155448913574, pointkl=0.04824512451887131),\n",
       " LossTrack(nll=0.044542789459228516, mlogpyx=1.211092472076416, pointkl=0.10065454244613647),\n",
       " LossTrack(nll=0.016106843948364258, mlogpyx=1.489993929862976, pointkl=0.2573765814304352),\n",
       " LossTrack(nll=0.016455411911010742, mlogpyx=1.4371185302734375, pointkl=0.06739333271980286),\n",
       " LossTrack(nll=0.032501220703125, mlogpyx=1.5235719680786133, pointkl=0.3016592264175415),\n",
       " LossTrack(nll=0.01366734504699707, mlogpyx=1.6513845920562744, pointkl=0.17665067315101624),\n",
       " LossTrack(nll=0.008162736892700195, mlogpyx=1.6190522909164429, pointkl=0.1368463635444641),\n",
       " LossTrack(nll=0.012342214584350586, mlogpyx=1.1706215143203735, pointkl=0.07604685425758362),\n",
       " LossTrack(nll=0.05013561248779297, mlogpyx=1.4927254915237427, pointkl=0.11957789212465286),\n",
       " LossTrack(nll=0.018188953399658203, mlogpyx=1.1319910287857056, pointkl=0.22972285747528076),\n",
       " LossTrack(nll=0.013902902603149414, mlogpyx=1.0835074186325073, pointkl=0.2909531891345978),\n",
       " LossTrack(nll=0.048621416091918945, mlogpyx=1.100868582725525, pointkl=0.35143211483955383),\n",
       " LossTrack(nll=0.01703953742980957, mlogpyx=0.8304475545883179, pointkl=0.47544634342193604),\n",
       " LossTrack(nll=0.01817917823791504, mlogpyx=0.8799994587898254, pointkl=0.5766477584838867),\n",
       " LossTrack(nll=0.0229034423828125, mlogpyx=0.8498422503471375, pointkl=0.5291237235069275),\n",
       " LossTrack(nll=0.016096115112304688, mlogpyx=0.8001593947410583, pointkl=0.42578214406967163),\n",
       " LossTrack(nll=0.010932207107543945, mlogpyx=0.8104288578033447, pointkl=0.4146065413951874),\n",
       " LossTrack(nll=0.009268522262573242, mlogpyx=0.8165221214294434, pointkl=0.4027842879295349),\n",
       " LossTrack(nll=0.02628350257873535, mlogpyx=0.861896812915802, pointkl=0.6016616821289062),\n",
       " LossTrack(nll=0.01159977912902832, mlogpyx=0.962617039680481, pointkl=0.6299309730529785),\n",
       " LossTrack(nll=0.0053195953369140625, mlogpyx=1.3061538934707642, pointkl=0.4660601019859314),\n",
       " LossTrack(nll=0.01642322540283203, mlogpyx=1.0450359582901, pointkl=0.7484866380691528),\n",
       " LossTrack(nll=0.017167329788208008, mlogpyx=1.3742316961288452, pointkl=0.6501274704933167),\n",
       " LossTrack(nll=0.006938457489013672, mlogpyx=0.9898302555084229, pointkl=0.8029361367225647),\n",
       " LossTrack(nll=0.007291555404663086, mlogpyx=1.2165446281433105, pointkl=0.7112899422645569),\n",
       " LossTrack(nll=0.013237953186035156, mlogpyx=0.7810987234115601, pointkl=0.6300284266471863),\n",
       " LossTrack(nll=0.03526115417480469, mlogpyx=0.8761796355247498, pointkl=0.6333470940589905),\n",
       " LossTrack(nll=0.0027060508728027344, mlogpyx=0.4908091723918915, pointkl=0.7491819858551025),\n",
       " LossTrack(nll=0.02275824546813965, mlogpyx=0.5480021834373474, pointkl=0.6643928289413452),\n",
       " LossTrack(nll=0.056061744689941406, mlogpyx=0.5506297945976257, pointkl=0.5818890929222107),\n",
       " LossTrack(nll=0.0012993812561035156, mlogpyx=0.44979050755500793, pointkl=0.5992128252983093),\n",
       " LossTrack(nll=0.02082657814025879, mlogpyx=0.5823314785957336, pointkl=0.5855711102485657),\n",
       " LossTrack(nll=0.056036949157714844, mlogpyx=0.3291196823120117, pointkl=0.7710908055305481),\n",
       " LossTrack(nll=0.0010137557983398438, mlogpyx=0.4050562381744385, pointkl=0.7369664311408997),\n",
       " LossTrack(nll=0.007367372512817383, mlogpyx=0.46782273054122925, pointkl=0.7288987040519714),\n",
       " LossTrack(nll=0.057639122009277344, mlogpyx=0.42697516083717346, pointkl=0.7940868735313416),\n",
       " LossTrack(nll=0.0008721351623535156, mlogpyx=0.7434130311012268, pointkl=0.908486008644104),\n",
       " LossTrack(nll=0.005562782287597656, mlogpyx=0.9267420768737793, pointkl=0.7746872305870056),\n",
       " LossTrack(nll=0.04154801368713379, mlogpyx=0.4762188792228699, pointkl=0.8192062377929688),\n",
       " LossTrack(nll=0.0007791519165039062, mlogpyx=0.5463142395019531, pointkl=0.8715104460716248),\n",
       " LossTrack(nll=0.002749919891357422, mlogpyx=0.407940149307251, pointkl=0.9116913676261902),\n",
       " LossTrack(nll=0.02584981918334961, mlogpyx=0.6213243007659912, pointkl=0.7472060322761536),\n",
       " LossTrack(nll=0.0005779266357421875, mlogpyx=0.4959944486618042, pointkl=1.034475326538086),\n",
       " LossTrack(nll=0.003172636032104492, mlogpyx=0.5025712847709656, pointkl=0.8947646617889404),\n",
       " LossTrack(nll=0.01937413215637207, mlogpyx=0.3562681972980499, pointkl=0.9220248460769653),\n",
       " LossTrack(nll=0.0011296272277832031, mlogpyx=0.3738413155078888, pointkl=1.0028703212738037),\n",
       " LossTrack(nll=0.003314971923828125, mlogpyx=0.5263746380805969, pointkl=0.9094979763031006),\n",
       " LossTrack(nll=0.019355297088623047, mlogpyx=0.8793414831161499, pointkl=0.6815456748008728),\n",
       " LossTrack(nll=0.0014543533325195312, mlogpyx=0.3492196202278137, pointkl=0.9694380760192871),\n",
       " LossTrack(nll=0.005111217498779297, mlogpyx=0.4843997061252594, pointkl=0.8752163648605347),\n",
       " LossTrack(nll=0.010504722595214844, mlogpyx=0.7352978587150574, pointkl=0.7305506467819214),\n",
       " LossTrack(nll=0.0034074783325195312, mlogpyx=0.8108369708061218, pointkl=0.6941675543785095),\n",
       " LossTrack(nll=0.007371187210083008, mlogpyx=0.6286910772323608, pointkl=0.759123682975769),\n",
       " LossTrack(nll=0.006042003631591797, mlogpyx=0.6952729821205139, pointkl=0.7288439273834229),\n",
       " LossTrack(nll=0.01406407356262207, mlogpyx=0.45299139618873596, pointkl=0.7852815985679626),\n",
       " LossTrack(nll=0.011961936950683594, mlogpyx=0.5081971883773804, pointkl=0.7819919586181641),\n",
       " LossTrack(nll=0.0043964385986328125, mlogpyx=0.20452381670475006, pointkl=0.8134251832962036),\n",
       " LossTrack(nll=0.04339337348937988, mlogpyx=0.17106227576732635, pointkl=0.8428121209144592),\n",
       " LossTrack(nll=0.009871482849121094, mlogpyx=0.380845308303833, pointkl=0.7762394547462463),\n",
       " LossTrack(nll=0.00316619873046875, mlogpyx=0.4169290065765381, pointkl=0.737152636051178),\n",
       " LossTrack(nll=0.03124856948852539, mlogpyx=0.4574824869632721, pointkl=0.6587942242622375),\n",
       " LossTrack(nll=0.0079498291015625, mlogpyx=0.2957879304885864, pointkl=0.6564596891403198),\n",
       " LossTrack(nll=0.0028934478759765625, mlogpyx=0.4057375192642212, pointkl=0.8633052110671997),\n",
       " LossTrack(nll=0.014607906341552734, mlogpyx=0.5263639092445374, pointkl=0.8182466626167297),\n",
       " LossTrack(nll=0.007318258285522461, mlogpyx=0.5005485415458679, pointkl=0.8146789073944092),\n",
       " LossTrack(nll=0.0030384063720703125, mlogpyx=0.5986834764480591, pointkl=0.7749180197715759),\n",
       " LossTrack(nll=0.005100250244140625, mlogpyx=0.29200074076652527, pointkl=0.8966051340103149),\n",
       " LossTrack(nll=0.009987115859985352, mlogpyx=0.4544930160045624, pointkl=0.7201971411705017),\n",
       " LossTrack(nll=0.002995014190673828, mlogpyx=0.630783200263977, pointkl=0.6969220042228699),\n",
       " LossTrack(nll=0.004973173141479492, mlogpyx=0.35582679510116577, pointkl=0.8177226781845093),\n",
       " LossTrack(nll=0.005873203277587891, mlogpyx=0.4087259769439697, pointkl=0.6652687191963196),\n",
       " LossTrack(nll=0.0069484710693359375, mlogpyx=0.5558649301528931, pointkl=0.7601335644721985),\n",
       " LossTrack(nll=0.003093242645263672, mlogpyx=0.9023582339286804, pointkl=0.7882909178733826),\n",
       " LossTrack(nll=0.0049076080322265625, mlogpyx=0.5824750065803528, pointkl=0.8341555595397949),\n",
       " LossTrack(nll=0.00887155532836914, mlogpyx=0.694917619228363, pointkl=0.6457016468048096),\n",
       " LossTrack(nll=0.004827022552490234, mlogpyx=0.29648104310035706, pointkl=0.7143092155456543),\n",
       " LossTrack(nll=0.003132343292236328, mlogpyx=0.6093518733978271, pointkl=0.6491535902023315),\n",
       " LossTrack(nll=0.015299320220947266, mlogpyx=0.6067600846290588, pointkl=0.6995288729667664),\n",
       " LossTrack(nll=0.005481719970703125, mlogpyx=0.6112885475158691, pointkl=0.5852249264717102),\n",
       " LossTrack(nll=0.003292083740234375, mlogpyx=0.5357850790023804, pointkl=0.5328792929649353),\n",
       " LossTrack(nll=0.0143585205078125, mlogpyx=0.5308318138122559, pointkl=0.5789439082145691),\n",
       " LossTrack(nll=0.010962486267089844, mlogpyx=0.5797238349914551, pointkl=0.6141284704208374),\n",
       " LossTrack(nll=0.002170562744140625, mlogpyx=0.6588936448097229, pointkl=0.5306764245033264),\n",
       " LossTrack(nll=0.011589527130126953, mlogpyx=0.7358287572860718, pointkl=0.5839111804962158),\n",
       " LossTrack(nll=0.02121567726135254, mlogpyx=0.5258837342262268, pointkl=0.5129272937774658),\n",
       " LossTrack(nll=0.0011725425720214844, mlogpyx=0.6861672401428223, pointkl=0.615039050579071),\n",
       " LossTrack(nll=0.005293846130371094, mlogpyx=0.7228052020072937, pointkl=0.5350601673126221),\n",
       " LossTrack(nll=0.03005504608154297, mlogpyx=0.6399262547492981, pointkl=0.43131574988365173),\n",
       " LossTrack(nll=0.0010027885437011719, mlogpyx=0.6560922265052795, pointkl=0.41713154315948486),\n",
       " LossTrack(nll=0.003570079803466797, mlogpyx=0.6471990942955017, pointkl=0.5265092849731445),\n",
       " LossTrack(nll=0.01613903045654297, mlogpyx=0.8043516278266907, pointkl=0.4147801995277405),\n",
       " LossTrack(nll=0.0009641647338867188, mlogpyx=0.6359975934028625, pointkl=0.4952920377254486),\n",
       " LossTrack(nll=0.0039520263671875, mlogpyx=0.8178991675376892, pointkl=0.5149478316307068),\n",
       " LossTrack(nll=0.016157865524291992, mlogpyx=0.7872810959815979, pointkl=0.45761752128601074),\n",
       " LossTrack(nll=0.0015974044799804688, mlogpyx=1.080633282661438, pointkl=0.402438759803772),\n",
       " LossTrack(nll=0.004161357879638672, mlogpyx=0.6917387247085571, pointkl=0.44741666316986084),\n",
       " LossTrack(nll=0.009195089340209961, mlogpyx=0.5880202054977417, pointkl=0.4561331570148468),\n",
       " LossTrack(nll=0.008105039596557617, mlogpyx=0.6812202334403992, pointkl=0.4724000096321106),\n",
       " LossTrack(nll=0.0066204071044921875, mlogpyx=0.7732411026954651, pointkl=0.4309779405593872),\n",
       " LossTrack(nll=0.012128591537475586, mlogpyx=0.963334858417511, pointkl=0.5174992680549622),\n",
       " LossTrack(nll=0.011478900909423828, mlogpyx=0.6920403838157654, pointkl=0.45677950978279114),\n",
       " LossTrack(nll=0.010039329528808594, mlogpyx=0.7544365525245667, pointkl=0.4864157736301422),\n",
       " LossTrack(nll=0.010495424270629883, mlogpyx=0.6742815971374512, pointkl=0.6122350096702576),\n",
       " LossTrack(nll=0.014467954635620117, mlogpyx=0.7172197103500366, pointkl=0.4321778416633606),\n",
       " LossTrack(nll=0.012849807739257812, mlogpyx=0.5636260509490967, pointkl=0.5645341277122498),\n",
       " LossTrack(nll=0.015518903732299805, mlogpyx=0.47076335549354553, pointkl=0.5578001141548157),\n",
       " LossTrack(nll=0.009266853332519531, mlogpyx=0.3809393644332886, pointkl=0.4998389780521393),\n",
       " LossTrack(nll=0.012246847152709961, mlogpyx=0.8992441296577454, pointkl=0.5825631618499756),\n",
       " LossTrack(nll=0.013452291488647461, mlogpyx=0.49973064661026, pointkl=0.5546045303344727),\n",
       " LossTrack(nll=0.0042247772216796875, mlogpyx=0.6232903003692627, pointkl=0.5459513068199158),\n",
       " LossTrack(nll=0.007767200469970703, mlogpyx=0.4028879404067993, pointkl=0.5550998449325562),\n",
       " LossTrack(nll=0.0135650634765625, mlogpyx=0.5496906042098999, pointkl=0.5497550368309021),\n",
       " LossTrack(nll=0.0019130706787109375, mlogpyx=0.4418994188308716, pointkl=0.5269970297813416),\n",
       " LossTrack(nll=0.005263805389404297, mlogpyx=0.4469107389450073, pointkl=0.48738303780555725),\n",
       " LossTrack(nll=0.011779069900512695, mlogpyx=0.6545039415359497, pointkl=0.4466128349304199),\n",
       " LossTrack(nll=0.0018677711486816406, mlogpyx=0.7572149038314819, pointkl=0.5381835103034973),\n",
       " LossTrack(nll=0.0055694580078125, mlogpyx=0.5113402009010315, pointkl=0.5453065037727356),\n",
       " LossTrack(nll=0.00841665267944336, mlogpyx=0.6366028785705566, pointkl=0.5174587368965149),\n",
       " LossTrack(nll=0.0014729499816894531, mlogpyx=0.6901296377182007, pointkl=0.382489413022995),\n",
       " LossTrack(nll=0.004920244216918945, mlogpyx=0.4023156762123108, pointkl=0.41570764780044556),\n",
       " LossTrack(nll=0.004234790802001953, mlogpyx=0.7428497076034546, pointkl=0.3450300395488739),\n",
       " LossTrack(nll=0.0023946762084960938, mlogpyx=0.8437634110450745, pointkl=0.3733576238155365),\n",
       " LossTrack(nll=0.007897377014160156, mlogpyx=0.738251805305481, pointkl=0.5231393575668335),\n",
       " LossTrack(nll=0.0023479461669921875, mlogpyx=0.8653103709220886, pointkl=0.3693287968635559),\n",
       " LossTrack(nll=0.00214385986328125, mlogpyx=0.9089274406433105, pointkl=0.40294149518013),\n",
       " LossTrack(nll=0.010594606399536133, mlogpyx=0.7126668691635132, pointkl=0.3643301725387573)]"
      ]
     },
     "execution_count": 33,
     "metadata": {},
     "output_type": "execute_result"
    }
   ],
   "source": [
    "model.loss_container"
   ]
  },
  {
   "cell_type": "code",
   "execution_count": 34,
   "metadata": {},
   "outputs": [],
   "source": [
    "df = pd.DataFrame(model.loss_container)"
   ]
  },
  {
   "cell_type": "code",
   "execution_count": 35,
   "metadata": {},
   "outputs": [
    {
     "data": {
      "text/html": [
       "<div>\n",
       "<style scoped>\n",
       "    .dataframe tbody tr th:only-of-type {\n",
       "        vertical-align: middle;\n",
       "    }\n",
       "\n",
       "    .dataframe tbody tr th {\n",
       "        vertical-align: top;\n",
       "    }\n",
       "\n",
       "    .dataframe thead th {\n",
       "        text-align: right;\n",
       "    }\n",
       "</style>\n",
       "<table border=\"1\" class=\"dataframe\">\n",
       "  <thead>\n",
       "    <tr style=\"text-align: right;\">\n",
       "      <th></th>\n",
       "      <th>nll</th>\n",
       "      <th>mlogpyx</th>\n",
       "      <th>pointkl</th>\n",
       "    </tr>\n",
       "  </thead>\n",
       "  <tbody>\n",
       "    <tr>\n",
       "      <th>0</th>\n",
       "      <td>1.486578</td>\n",
       "      <td>1.496036</td>\n",
       "      <td>4.789502</td>\n",
       "    </tr>\n",
       "    <tr>\n",
       "      <th>1</th>\n",
       "      <td>1.553192</td>\n",
       "      <td>1.456050</td>\n",
       "      <td>4.386046</td>\n",
       "    </tr>\n",
       "    <tr>\n",
       "      <th>2</th>\n",
       "      <td>1.493521</td>\n",
       "      <td>1.426314</td>\n",
       "      <td>3.854433</td>\n",
       "    </tr>\n",
       "    <tr>\n",
       "      <th>3</th>\n",
       "      <td>0.975682</td>\n",
       "      <td>1.364492</td>\n",
       "      <td>3.056746</td>\n",
       "    </tr>\n",
       "    <tr>\n",
       "      <th>4</th>\n",
       "      <td>1.207070</td>\n",
       "      <td>1.301276</td>\n",
       "      <td>2.043687</td>\n",
       "    </tr>\n",
       "    <tr>\n",
       "      <th>...</th>\n",
       "      <td>...</td>\n",
       "      <td>...</td>\n",
       "      <td>...</td>\n",
       "    </tr>\n",
       "    <tr>\n",
       "      <th>145</th>\n",
       "      <td>0.002395</td>\n",
       "      <td>0.843763</td>\n",
       "      <td>0.373358</td>\n",
       "    </tr>\n",
       "    <tr>\n",
       "      <th>146</th>\n",
       "      <td>0.007897</td>\n",
       "      <td>0.738252</td>\n",
       "      <td>0.523139</td>\n",
       "    </tr>\n",
       "    <tr>\n",
       "      <th>147</th>\n",
       "      <td>0.002348</td>\n",
       "      <td>0.865310</td>\n",
       "      <td>0.369329</td>\n",
       "    </tr>\n",
       "    <tr>\n",
       "      <th>148</th>\n",
       "      <td>0.002144</td>\n",
       "      <td>0.908927</td>\n",
       "      <td>0.402941</td>\n",
       "    </tr>\n",
       "    <tr>\n",
       "      <th>149</th>\n",
       "      <td>0.010595</td>\n",
       "      <td>0.712667</td>\n",
       "      <td>0.364330</td>\n",
       "    </tr>\n",
       "  </tbody>\n",
       "</table>\n",
       "<p>150 rows × 3 columns</p>\n",
       "</div>"
      ],
      "text/plain": [
       "          nll   mlogpyx   pointkl\n",
       "0    1.486578  1.496036  4.789502\n",
       "1    1.553192  1.456050  4.386046\n",
       "2    1.493521  1.426314  3.854433\n",
       "3    0.975682  1.364492  3.056746\n",
       "4    1.207070  1.301276  2.043687\n",
       "..        ...       ...       ...\n",
       "145  0.002395  0.843763  0.373358\n",
       "146  0.007897  0.738252  0.523139\n",
       "147  0.002348  0.865310  0.369329\n",
       "148  0.002144  0.908927  0.402941\n",
       "149  0.010595  0.712667  0.364330\n",
       "\n",
       "[150 rows x 3 columns]"
      ]
     },
     "execution_count": 35,
     "metadata": {},
     "output_type": "execute_result"
    }
   ],
   "source": [
    "df"
   ]
  },
  {
   "cell_type": "code",
   "execution_count": 21,
   "metadata": {},
   "outputs": [
    {
     "data": {
      "image/png": "[encoded data removed]",
      "text/plain": [
       "<Figure size 1500x1000 with 1 Axes>"
      ]
     },
     "metadata": {},
     "output_type": "display_data"
    }
   ],
   "source": [
    "ax = sns.lineplot(data=df, dashes=False)"
   ]
  }
 ],
 "metadata": {
  "kernelspec": {
   "display_name": "Python 3",
   "language": "python",
   "name": "python3"
  },
  "language_info": {
   "codemirror_mode": {
    "name": "ipython",
    "version": 3
   },
   "file_extension": ".py",
   "mimetype": "text/x-python",
   "name": "python",
   "nbconvert_exporter": "python",
   "pygments_lexer": "ipython3",
   "version": "3.7.6"
  }
 },
 "nbformat": 4,
 "nbformat_minor": 4
}
